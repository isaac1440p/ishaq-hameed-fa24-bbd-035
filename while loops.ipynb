{
 "cells": [
  {
   "cell_type": "code",
   "execution_count": 1,
   "id": "a01ed538-f8df-4108-9ad1-d767cf510b40",
   "metadata": {},
   "outputs": [
    {
     "name": "stdout",
     "output_type": "stream",
     "text": [
      "0,lotr\n",
      "1,snatch\n",
      "2,unforgiven\n"
     ]
    }
   ],
   "source": [
    "movies = ['lotr', 'snatch', 'unforgiven']\n",
    "for i, movie in enumerate(movies):\n",
    "    print(f\"{i},{movie}\")"
   ]
  },
  {
   "cell_type": "code",
   "execution_count": 3,
   "id": "316a800a-c6c4-49f5-a751-3959b3f2b357",
   "metadata": {},
   "outputs": [
    {
     "name": "stdout",
     "output_type": "stream",
     "text": [
      "i\n",
      "s\n",
      "h\n",
      "a\n",
      "q\n",
      " \n",
      "h\n",
      "a\n",
      "m\n",
      "e\n",
      "e\n",
      "d\n",
      "Number of vowels: 5\n"
     ]
    }
   ],
   "source": [
    "m = \"ishaq hameed\"\n",
    "for char in m:\n",
    "    print(char)\n",
    "    vowels = \"aeiouAEIOU\"\n",
    "vowel_count = 0\n",
    "\n",
    "for char in m:\n",
    "    if char in vowels:\n",
    "        vowel_count += 1\n",
    "\n",
    "print(\"Number of vowels:\", vowel_count)"
   ]
  },
  {
   "cell_type": "code",
   "execution_count": 9,
   "id": "ad32e76d-8377-4556-a8cc-354748fb2d19",
   "metadata": {},
   "outputs": [
    {
     "name": "stdout",
     "output_type": "stream",
     "text": [
      "0\n",
      "1\n",
      "2\n",
      "3\n",
      "4\n",
      "5\n",
      "6\n",
      "7\n",
      "8\n",
      "9\n"
     ]
    }
   ],
   "source": [
    "count = 0\n",
    "while count < 10:\n",
    "    print(count)\n",
    "    count += 1"
   ]
  },
  {
   "cell_type": "code",
   "execution_count": 11,
   "id": "75e72f60-733b-4e84-9d2f-ee8ffa52057c",
   "metadata": {},
   "outputs": [
    {
     "name": "stdout",
     "output_type": "stream",
     "text": [
      "2\n",
      "4\n",
      "6\n",
      "8\n",
      "10\n",
      "12\n",
      "14\n",
      "16\n",
      "18\n"
     ]
    }
   ],
   "source": [
    "count = 2\n",
    "while count < 20:\n",
    "    print(count)\n",
    "    count += 2"
   ]
  },
  {
   "cell_type": "code",
   "execution_count": 7,
   "id": "e3621547-ee98-4660-9e37-20445bc825a9",
   "metadata": {},
   "outputs": [
    {
     "name": "stdout",
     "output_type": "stream",
     "text": [
      "The sum of the first 10 natural numbers is: 55\n"
     ]
    }
   ],
   "source": [
    "\n",
    "count = 1\n",
    "total_sum = 0\n",
    "\n",
    "\n",
    "while count <= 10:\n",
    "    total_sum += count \n",
    "    count += 1  \n",
    "\n",
    "print(\"The sum of the first 10 natural numbers is:\", total_sum)"
   ]
  },
  {
   "cell_type": "code",
   "execution_count": 33,
   "id": "df4df961-32fc-4641-9c3c-ca7793dc7e1d",
   "metadata": {},
   "outputs": [
    {
     "name": "stdin",
     "output_type": "stream",
     "text": [
      "enter a number or enter negative no to stop: 56\n"
     ]
    },
    {
     "name": "stdout",
     "output_type": "stream",
     "text": [
      "total sum of numbers are : 56.0\n"
     ]
    },
    {
     "name": "stdin",
     "output_type": "stream",
     "text": [
      "enter a number or enter negative no to stop: 77\n"
     ]
    },
    {
     "name": "stdout",
     "output_type": "stream",
     "text": [
      "total sum of numbers are : 133.0\n"
     ]
    },
    {
     "name": "stdin",
     "output_type": "stream",
     "text": [
      "enter a number or enter negative no to stop: 88\n"
     ]
    },
    {
     "name": "stdout",
     "output_type": "stream",
     "text": [
      "total sum of numbers are : 221.0\n"
     ]
    },
    {
     "name": "stdin",
     "output_type": "stream",
     "text": [
      "enter a number or enter negative no to stop: -9\n"
     ]
    }
   ],
   "source": [
    "total_sum = 0\n",
    "while True:\n",
    "    number = float(input(\"enter a number or enter negative no to stop:\"))\n",
    "\n",
    "    if number < 0: \n",
    "        break\n",
    "    \n",
    "\n",
    "    total_sum += number\n",
    "    print(\"total sum of numbers are :\" , total_sum)"
   ]
  },
  {
   "cell_type": "code",
   "execution_count": 1,
   "id": "487a98e5-4746-4d2b-88e5-15176dd387db",
   "metadata": {},
   "outputs": [
    {
     "name": "stdout",
     "output_type": "stream",
     "text": [
      "Welcome to the Number Guessing Game!\n",
      "I have chosen a number between 1 and 100. Can you guess what it is?\n"
     ]
    },
    {
     "name": "stdin",
     "output_type": "stream",
     "text": [
      "Enter your guess:  34\n"
     ]
    },
    {
     "name": "stdout",
     "output_type": "stream",
     "text": [
      "Too high! Try again.\n"
     ]
    },
    {
     "name": "stdin",
     "output_type": "stream",
     "text": [
      "Enter your guess:  12\n"
     ]
    },
    {
     "name": "stdout",
     "output_type": "stream",
     "text": [
      "Too low! Try again.\n"
     ]
    },
    {
     "name": "stdin",
     "output_type": "stream",
     "text": [
      "Enter your guess:  14\n"
     ]
    },
    {
     "name": "stdout",
     "output_type": "stream",
     "text": [
      "Too low! Try again.\n"
     ]
    },
    {
     "name": "stdin",
     "output_type": "stream",
     "text": [
      "Enter your guess:  18\n"
     ]
    },
    {
     "name": "stdout",
     "output_type": "stream",
     "text": [
      "Too low! Try again.\n"
     ]
    },
    {
     "name": "stdin",
     "output_type": "stream",
     "text": [
      "Enter your guess:  23\n"
     ]
    },
    {
     "name": "stdout",
     "output_type": "stream",
     "text": [
      "Too high! Try again.\n"
     ]
    },
    {
     "name": "stdin",
     "output_type": "stream",
     "text": [
      "Enter your guess:  20\n"
     ]
    },
    {
     "name": "stdout",
     "output_type": "stream",
     "text": [
      "Too low! Try again.\n"
     ]
    },
    {
     "name": "stdin",
     "output_type": "stream",
     "text": [
      "Enter your guess:  23\n"
     ]
    },
    {
     "name": "stdout",
     "output_type": "stream",
     "text": [
      "Too high! Try again.\n"
     ]
    },
    {
     "name": "stdin",
     "output_type": "stream",
     "text": [
      "Enter your guess:  21\n"
     ]
    },
    {
     "name": "stdout",
     "output_type": "stream",
     "text": [
      "Congratulations! You guessed it right. The number was 21.\n"
     ]
    }
   ],
   "source": [
    "import random\n",
    "\n",
    "target_number = random.randint(1, 100)\n",
    "\n",
    "print(\"Welcome to the Number Guessing Game!\")\n",
    "print(\"I have chosen a number between 1 and 100. Can you guess what it is?\")\n",
    "\n",
    "while True:\n",
    "    try:\n",
    "        guess = int(input(\"Enter your guess: \"))\n",
    "\n",
    "        if guess < 1 or guess > 100:\n",
    "            print(\"Please guess a number between 1 and 100.\")\n",
    "        elif guess < target_number:\n",
    "            print(\"Too low! Try again.\")\n",
    "        elif guess > target_number:\n",
    "            print(\"Too high! Try again.\")\n",
    "        else:\n",
    "            print(f\"Congratulations! You guessed it right. The number was {target_number}.\")\n",
    "            break \n",
    "    except ValueError:\n",
    "        print(\"Invalid input. Please enter a valid number.\")"
   ]
  },
  {
   "cell_type": "code",
   "execution_count": 7,
   "id": "7dd74cb1-bcc1-4759-98a6-2232f625d412",
   "metadata": {},
   "outputs": [
    {
     "name": "stdin",
     "output_type": "stream",
     "text": [
      "Enter a positive integer:  12\n"
     ]
    },
    {
     "name": "stdout",
     "output_type": "stream",
     "text": [
      "The factorial of 12 is 479001600.\n"
     ]
    }
   ],
   "source": [
    "number = int(input(\"Enter a positive integer: \"))\n",
    "\n",
    "if number < 0:\n",
    "    print(\"Factorial is not defined for negative numbers.\")\n",
    "elif number == 0:\n",
    "    print(\"The factorial of 0 is 1.\")\n",
    "else:\n",
    "    factorial = 1\n",
    "    current = number\n",
    "\n",
    "    while current > 0:\n",
    "        factorial *= current\n",
    "        current -= 1\n",
    "\n",
    "    print(f\"The factorial of {number} is {factorial}.\")"
   ]
  },
  {
   "cell_type": "code",
   "execution_count": 9,
   "id": "5b19feb7-af48-4766-9fda-f384e123cdf2",
   "metadata": {},
   "outputs": [
    {
     "name": "stdout",
     "output_type": "stream",
     "text": [
      "Enter numbers one by one. Type 'done' when you are finished.\n"
     ]
    },
    {
     "name": "stdin",
     "output_type": "stream",
     "text": [
      "Enter a number (or 'done' to finish):  23\n",
      "Enter a number (or 'done' to finish):  44\n",
      "Enter a number (or 'done' to finish):  55\n",
      "Enter a number (or 'done' to finish):  64\n",
      "Enter a number (or 'done' to finish):  34\n",
      "Enter a number (or 'done' to finish):  53\n",
      "Enter a number (or 'done' to finish):  done\n"
     ]
    },
    {
     "name": "stdout",
     "output_type": "stream",
     "text": [
      "The average of the entered numbers is: 45.50\n"
     ]
    }
   ],
   "source": [
    "print(\"Enter numbers one by one. Type 'done' when you are finished.\")\n",
    "\n",
    "count = 0\n",
    "total = 0.0\n",
    "\n",
    "while True:\n",
    "    user_input = input(\"Enter a number (or 'done' to finish): \")\n",
    "    \n",
    "    if user_input.lower() == \"done\":\n",
    "        break\n",
    "    try:\n",
    "        number = float(user_input)\n",
    "        total += number\n",
    "        count += 1\n",
    "    except ValueError:\n",
    "        print(\"Invalid input. Please enter a valid number.\")\n",
    "\n",
    "if count == 0:\n",
    "    print(\"No numbers were entered. No average to calculate.\")\n",
    "else:\n",
    "    average = total / count\n",
    "    print(f\"The average of the entered numbers is: {average:.2f}\")"
   ]
  },
  {
   "cell_type": "code",
   "execution_count": 11,
   "id": "2d8cfa87-262c-4b13-992b-fbcf3eac3ed7",
   "metadata": {},
   "outputs": [
    {
     "name": "stdin",
     "output_type": "stream",
     "text": [
      "Enter a positive integer to generate the Fibonacci sequence up to:  23\n"
     ]
    },
    {
     "name": "stdout",
     "output_type": "stream",
     "text": [
      "Fibonacci sequence:\n",
      "0 1 1 2 3 5 8 13 21 "
     ]
    }
   ],
   "source": [
    "n = int(input(\"Enter a positive integer to generate the Fibonacci sequence up to: \"))\n",
    "\n",
    "if n < 0:\n",
    "    print(\"Please enter a positive integer.\")\n",
    "else:\n",
    "    print(\"Fibonacci sequence:\")\n",
    "    a, b = 0, 1 \n",
    "    while a <= n:\n",
    "        print(a, end=\" \") \n",
    "        a, b = b, a + b"
   ]
  },
  {
   "cell_type": "code",
   "execution_count": null,
   "id": "6c952aaf-16d6-4e22-843d-a3062a915496",
   "metadata": {},
   "outputs": [],
   "source": []
  }
 ],
 "metadata": {
  "kernelspec": {
   "display_name": "Python 3 (ipykernel)",
   "language": "python",
   "name": "python3"
  },
  "language_info": {
   "codemirror_mode": {
    "name": "ipython",
    "version": 3
   },
   "file_extension": ".py",
   "mimetype": "text/x-python",
   "name": "python",
   "nbconvert_exporter": "python",
   "pygments_lexer": "ipython3",
   "version": "3.12.4"
  }
 },
 "nbformat": 4,
 "nbformat_minor": 5
}
